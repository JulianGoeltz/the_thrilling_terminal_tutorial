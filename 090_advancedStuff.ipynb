{
 "cells": [
  {
   "cell_type": "markdown",
   "id": "0bd03263",
   "metadata": {},
   "source": [
    "## Some other nice things\n",
    "\n",
    "* soooooooooooo much\n",
    "* terminal multiplexers like `tmux` or `screen`\n",
    "* end of a programm\n",
    "  * not necessarily at first error\n",
    "* arrays:\n",
    "  * https://github.com/JulianGoeltz/myConfigFiles/blob/master/i3scripts/bluetooth_audio_profile.sh\n",
    "  * https://github.com/JulianGoeltz/myConfigFiles/blob/master/toolbox/whichLicences.sh#L11\n",
    "* slicing of variables\n",
    "  * `${var:1:2}`\n",
    "  * `${var/bla/blub}` and `${var//bla/blub}`\n",
    "* getting user input `read -p \"prompt\" varName`\n",
    "* using `netcat` (not in jupyter :( )\n",
    "  * `nc -l -k localhost 5555 | (while IFS= read -r line; do echo $line; done)`\n",
    "  * `echo bla | nc -N localhost 5555`"
   ]
  },
  {
   "cell_type": "code",
   "execution_count": null,
   "id": "c9323eea",
   "metadata": {},
   "outputs": [],
   "source": []
  }
 ],
 "metadata": {
  "kernelspec": {
   "display_name": "Bash",
   "language": "bash",
   "name": "bash"
  },
  "language_info": {
   "codemirror_mode": "shell",
   "file_extension": ".sh",
   "mimetype": "text/x-sh",
   "name": "bash"
  }
 },
 "nbformat": 4,
 "nbformat_minor": 5
}
