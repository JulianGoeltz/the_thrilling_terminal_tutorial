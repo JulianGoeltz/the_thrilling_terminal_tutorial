{
 "cells": [
  {
   "cell_type": "markdown",
   "id": "c7468a81",
   "metadata": {},
   "source": [
    "## subshells\n",
    "Say I have a command that gives some relevant information that I want to echo with some text:"
   ]
  },
  {
   "cell_type": "code",
   "execution_count": null,
   "id": "544472c5",
   "metadata": {},
   "outputs": [],
   "source": [
    "echo \"current working directory: \"\n",
    "pwd\n",
    "\n",
    "echo\n",
    "echo \"alphabetically last variable\"\n",
    "env | sort | tail -n 1\n",
    "\n",
    "echo\n",
    "echo \"last set variable\"\n",
    "env | tail -n1"
   ]
  },
  {
   "cell_type": "markdown",
   "id": "c33fbade",
   "metadata": {},
   "source": [
    "subshell is e.g. `$(command)`:"
   ]
  },
  {
   "cell_type": "code",
   "execution_count": null,
   "id": "9ee4d797",
   "metadata": {},
   "outputs": [],
   "source": [
    "echo \"alphabetically first file in the CWD $(pwd) is '$(ls | head -n 1)'.\""
   ]
  },
  {
   "cell_type": "markdown",
   "id": "58e88aa4",
   "metadata": {},
   "source": [
    "* Have to be careful with quotes\n",
    "* equivalent syntax is `[tick]command[tick]`' (not in `fish`) but the other one is more easily readable IMO"
   ]
  },
  {
   "cell_type": "code",
   "execution_count": null,
   "id": "da88dc90",
   "metadata": {},
   "outputs": [],
   "source": [
    "foo=\"bar$(pwd)bla\"\n",
    "echo $foo\n",
    "foo=\"bar`pwd`bla\"\n",
    "echo $foo"
   ]
  },
  {
   "cell_type": "markdown",
   "id": "292de1ce",
   "metadata": {},
   "source": [
    "`command` does not need to be one, but can be many; or arbitraty combinations as above"
   ]
  },
  {
   "cell_type": "code",
   "execution_count": null,
   "id": "14544145",
   "metadata": {},
   "outputs": [],
   "source": [
    "echo \"three times the pwd is$(pwd; pwd; pwd), you didn't expect that\"\n",
    "\n",
    "tmp=\"$(env | tail -n1)\"\n",
    "echo -e \"\\nlast set variable has name $(echo $tmp | cut -d = -f1) and value $(echo $tmp | cut -d= -f2)\""
   ]
  },
  {
   "cell_type": "markdown",
   "id": "bdeb6fd8",
   "metadata": {},
   "source": [
    "Important: you can't influence the main shell from the subshell except from the output. Not even with `export`"
   ]
  },
  {
   "cell_type": "code",
   "execution_count": null,
   "id": "b40acf5a",
   "metadata": {},
   "outputs": [],
   "source": [
    "x=foo\n",
    "echo \"x is $(echo -n $x; export x=\"bar\"; echo -n $x), but now it is $x\""
   ]
  },
  {
   "cell_type": "markdown",
   "id": "c4953878",
   "metadata": {},
   "source": [
    "Other kinds of subshells:\n",
    "* `<(command)` pretends to be a file\n",
    "* `$((command))` used for calculations"
   ]
  },
  {
   "cell_type": "code",
   "execution_count": null,
   "id": "334de461",
   "metadata": {
    "scrolled": false
   },
   "outputs": [],
   "source": [
    "echo \"directory contents\"\n",
    "ls -A\n",
    "\n",
    "# first create tar:\n",
    "tar -cf notebooks.tar *ipynb\n",
    "echo \"list of tar contents\"\n",
    "tar -tf notebooks.tar"
   ]
  },
  {
   "cell_type": "code",
   "execution_count": null,
   "id": "a72baefd",
   "metadata": {
    "scrolled": false
   },
   "outputs": [],
   "source": [
    "diff --side-by-side <(ls -A) <(tar -tf notebooks.tar)"
   ]
  },
  {
   "cell_type": "code",
   "execution_count": null,
   "id": "4e1b646b",
   "metadata": {},
   "outputs": [],
   "source": [
    "i=1\n",
    "echo $((i+1))\n",
    "((i=i+1))\n",
    "echo $i"
   ]
  },
  {
   "cell_type": "markdown",
   "id": "8b4286d5",
   "metadata": {},
   "source": [
    "what is the number of files (including hidden files) times 3 minus the number of variables in env?"
   ]
  },
  {
   "cell_type": "code",
   "execution_count": null,
   "id": "e4466c67",
   "metadata": {},
   "outputs": [],
   "source": []
  }
 ],
 "metadata": {
  "kernelspec": {
   "display_name": "Bash",
   "language": "bash",
   "name": "bash"
  },
  "language_info": {
   "codemirror_mode": "shell",
   "file_extension": ".sh",
   "mimetype": "text/x-sh",
   "name": "bash"
  }
 },
 "nbformat": 4,
 "nbformat_minor": 5
}
