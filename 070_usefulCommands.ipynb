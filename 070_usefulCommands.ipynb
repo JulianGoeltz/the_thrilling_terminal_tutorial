{
 "cells": [
  {
   "cell_type": "markdown",
   "id": "a6940ef6",
   "metadata": {
    "slideshow": {
     "slide_type": "slide"
    }
   },
   "source": [
    "## things that we already know"
   ]
  },
  {
   "cell_type": "code",
   "execution_count": null,
   "id": "2f75ea53",
   "metadata": {
    "slideshow": {
     "slide_type": "fragment"
    }
   },
   "outputs": [],
   "source": [
    "chmod"
   ]
  },
  {
   "cell_type": "code",
   "execution_count": null,
   "id": "12d5341b",
   "metadata": {
    "slideshow": {
     "slide_type": "fragment"
    }
   },
   "outputs": [],
   "source": [
    "cat"
   ]
  },
  {
   "cell_type": "code",
   "execution_count": null,
   "id": "79ad60c3",
   "metadata": {
    "slideshow": {
     "slide_type": "fragment"
    }
   },
   "outputs": [],
   "source": [
    "seq"
   ]
  },
  {
   "cell_type": "code",
   "execution_count": null,
   "id": "b9e869d9",
   "metadata": {
    "slideshow": {
     "slide_type": "fragment"
    }
   },
   "outputs": [],
   "source": [
    "head"
   ]
  },
  {
   "cell_type": "code",
   "execution_count": null,
   "id": "537f7e24",
   "metadata": {
    "slideshow": {
     "slide_type": "fragment"
    }
   },
   "outputs": [],
   "source": [
    "tail"
   ]
  },
  {
   "cell_type": "code",
   "execution_count": null,
   "id": "ad8f17bd",
   "metadata": {
    "slideshow": {
     "slide_type": "fragment"
    }
   },
   "outputs": [],
   "source": [
    "sort"
   ]
  },
  {
   "cell_type": "code",
   "execution_count": null,
   "id": "465caed4",
   "metadata": {
    "slideshow": {
     "slide_type": "fragment"
    }
   },
   "outputs": [],
   "source": [
    "wc"
   ]
  },
  {
   "cell_type": "markdown",
   "id": "4a3f6cf8",
   "metadata": {
    "slideshow": {
     "slide_type": "slide"
    }
   },
   "source": [
    "## new stuff"
   ]
  },
  {
   "cell_type": "code",
   "execution_count": null,
   "id": "f7a297c5",
   "metadata": {
    "slideshow": {
     "slide_type": "fragment"
    }
   },
   "outputs": [],
   "source": [
    "man"
   ]
  },
  {
   "cell_type": "code",
   "execution_count": null,
   "id": "d099bad9",
   "metadata": {
    "slideshow": {
     "slide_type": "fragment"
    }
   },
   "outputs": [],
   "source": [
    "type\n",
    "which"
   ]
  },
  {
   "cell_type": "code",
   "execution_count": null,
   "id": "71cf0bc4",
   "metadata": {
    "slideshow": {
     "slide_type": "fragment"
    }
   },
   "outputs": [],
   "source": [
    "# alternative to ls\n",
    "find"
   ]
  },
  {
   "cell_type": "code",
   "execution_count": null,
   "id": "7fd1c897",
   "metadata": {
    "slideshow": {
     "slide_type": "fragment"
    }
   },
   "outputs": [],
   "source": [
    "tee"
   ]
  },
  {
   "cell_type": "code",
   "execution_count": null,
   "id": "7083e5bd",
   "metadata": {
    "slideshow": {
     "slide_type": "slide"
    }
   },
   "outputs": [],
   "source": [
    "dirname\n",
    "basename"
   ]
  },
  {
   "cell_type": "code",
   "execution_count": null,
   "id": "73e99460",
   "metadata": {
    "slideshow": {
     "slide_type": "fragment"
    }
   },
   "outputs": [],
   "source": [
    "# translate\n",
    "tr '\\n' ' '"
   ]
  },
  {
   "cell_type": "code",
   "execution_count": null,
   "id": "aef511af",
   "metadata": {
    "slideshow": {
     "slide_type": "fragment"
    }
   },
   "outputs": [],
   "source": [
    "cut"
   ]
  },
  {
   "cell_type": "code",
   "execution_count": null,
   "id": "fccca1b6",
   "metadata": {},
   "outputs": [],
   "source": [
    "j path\n",
    "# autojump https://github.com/wting/autojump"
   ]
  },
  {
   "cell_type": "code",
   "execution_count": null,
   "id": "a7cf1fca",
   "metadata": {},
   "outputs": [],
   "source": [
    "fuck\n",
    "# thefuck https://github.com/nvbn/thefuck"
   ]
  },
  {
   "cell_type": "code",
   "execution_count": null,
   "id": "84a911ef",
   "metadata": {},
   "outputs": [],
   "source": [
    "rg\n",
    "# ripgrep https://github.com/BurntSushi/ripgrep"
   ]
  },
  {
   "cell_type": "code",
   "execution_count": null,
   "id": "ef502513",
   "metadata": {},
   "outputs": [],
   "source": [
    "shellcheck\n",
    "# https://github.com/koalaman/shellcheck"
   ]
  },
  {
   "cell_type": "code",
   "execution_count": null,
   "id": "213860b2",
   "metadata": {},
   "outputs": [],
   "source": [
    "source"
   ]
  },
  {
   "cell_type": "code",
   "execution_count": null,
   "id": "418fb19c",
   "metadata": {
    "slideshow": {
     "slide_type": "fragment"
    }
   },
   "outputs": [],
   "source": [
    "awk"
   ]
  },
  {
   "cell_type": "code",
   "execution_count": null,
   "id": "889f045c",
   "metadata": {
    "slideshow": {
     "slide_type": "fragment"
    }
   },
   "outputs": [],
   "source": [
    "curl\n",
    "wget"
   ]
  }
 ],
 "metadata": {
  "celltoolbar": "Slideshow",
  "kernelspec": {
   "display_name": "Bash",
   "language": "bash",
   "name": "bash"
  },
  "language_info": {
   "codemirror_mode": "shell",
   "file_extension": ".sh",
   "mimetype": "text/x-sh",
   "name": "bash"
  }
 },
 "nbformat": 4,
 "nbformat_minor": 5
}
