{
 "cells": [
  {
   "cell_type": "markdown",
   "id": "a6940ef6",
   "metadata": {},
   "source": [
    "## things that we already know"
   ]
  },
  {
   "cell_type": "code",
   "execution_count": null,
   "id": "2f75ea53",
   "metadata": {},
   "outputs": [],
   "source": [
    "chmod"
   ]
  },
  {
   "cell_type": "code",
   "execution_count": null,
   "id": "12d5341b",
   "metadata": {},
   "outputs": [],
   "source": [
    "cat"
   ]
  },
  {
   "cell_type": "code",
   "execution_count": null,
   "id": "79ad60c3",
   "metadata": {},
   "outputs": [],
   "source": [
    "seq"
   ]
  },
  {
   "cell_type": "code",
   "execution_count": null,
   "id": "b9e869d9",
   "metadata": {},
   "outputs": [],
   "source": [
    "head"
   ]
  },
  {
   "cell_type": "code",
   "execution_count": null,
   "id": "537f7e24",
   "metadata": {},
   "outputs": [],
   "source": [
    "tail"
   ]
  },
  {
   "cell_type": "code",
   "execution_count": null,
   "id": "ad8f17bd",
   "metadata": {},
   "outputs": [],
   "source": [
    "sort"
   ]
  },
  {
   "cell_type": "code",
   "execution_count": null,
   "id": "465caed4",
   "metadata": {},
   "outputs": [],
   "source": [
    "wc"
   ]
  },
  {
   "cell_type": "markdown",
   "id": "4a3f6cf8",
   "metadata": {},
   "source": [
    "## new stuff"
   ]
  },
  {
   "cell_type": "code",
   "execution_count": null,
   "id": "f7a297c5",
   "metadata": {},
   "outputs": [],
   "source": [
    "man"
   ]
  },
  {
   "cell_type": "code",
   "execution_count": null,
   "id": "d099bad9",
   "metadata": {},
   "outputs": [],
   "source": [
    "type\n",
    "which"
   ]
  },
  {
   "cell_type": "code",
   "execution_count": null,
   "id": "71cf0bc4",
   "metadata": {},
   "outputs": [],
   "source": [
    "# alternative to ls\n",
    "find"
   ]
  },
  {
   "cell_type": "code",
   "execution_count": null,
   "id": "7fd1c897",
   "metadata": {},
   "outputs": [],
   "source": [
    "tee"
   ]
  },
  {
   "cell_type": "code",
   "execution_count": null,
   "id": "7083e5bd",
   "metadata": {},
   "outputs": [],
   "source": [
    "dirname\n",
    "basename"
   ]
  },
  {
   "cell_type": "code",
   "execution_count": null,
   "id": "73e99460",
   "metadata": {},
   "outputs": [],
   "source": [
    "# translate\n",
    "tr '\\n' ' '"
   ]
  },
  {
   "cell_type": "code",
   "execution_count": null,
   "id": "aef511af",
   "metadata": {},
   "outputs": [],
   "source": [
    "cut"
   ]
  },
  {
   "cell_type": "code",
   "execution_count": null,
   "id": "418fb19c",
   "metadata": {},
   "outputs": [],
   "source": [
    "awk"
   ]
  },
  {
   "cell_type": "code",
   "execution_count": null,
   "id": "889f045c",
   "metadata": {},
   "outputs": [],
   "source": [
    "curl\n",
    "wget"
   ]
  }
 ],
 "metadata": {
  "kernelspec": {
   "display_name": "Bash",
   "language": "bash",
   "name": "bash"
  },
  "language_info": {
   "codemirror_mode": "shell",
   "file_extension": ".sh",
   "mimetype": "text/x-sh",
   "name": "bash"
  }
 },
 "nbformat": 4,
 "nbformat_minor": 5
}
