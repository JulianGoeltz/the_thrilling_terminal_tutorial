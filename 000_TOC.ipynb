{
 "cells": [
  {
   "cell_type": "markdown",
   "id": "4d2cc892",
   "metadata": {
    "slideshow": {
     "slide_type": "slide"
    }
   },
   "source": [
    "## Learning how to efficiently (and at all) use a 'shell'\n",
    "\n",
    "What we are gonna cover:\n",
    "* what is a terminal, what is a shell? what kinds are there? (why are we using jupyter?)\n",
    "* the easy bits: 'helloWorld'ing\n",
    "* how to reuse stuff: `export`ing, `alias`es and `function`s [010_functions](010_functions.ipynb)\n",
    "* what are outputs (stdin vs stderr, piping) [020_pipes](020_pipes.ipynb)\n",
    "* [030_subshells](030_subshells.ipynb)\n",
    "* [040_loops](040_loops.ipynb)\n",
    "* [050_conditionals](050_conditionals.ipynb)\n",
    "* some [060_regex](060_regex.ipynb) :funfunfun:\n",
    "* some [070_usefulCommands](070_usefuleCommands.ipynb)\n",
    "* [090_advancedStuff](090_advancedStudd.ipynb)"
   ]
  },
  {
   "cell_type": "markdown",
   "id": "13fbc210",
   "metadata": {
    "slideshow": {
     "slide_type": "slide"
    }
   },
   "source": [
    "## Why does it matter\n",
    "* every `ssh` will lead you to a shell\n",
    "* every second install of nondefault programs includes shell code\n",
    "* most importantly: it saves you a lot of time, `for` loops and `grep`s are invaluable IMHO"
   ]
  },
  {
   "cell_type": "markdown",
   "id": "a7cf0367",
   "metadata": {
    "slideshow": {
     "slide_type": "fragment"
    }
   },
   "source": [
    "<img src='https://imgs.xkcd.com/comics/is_it_worth_the_time.png' width=\"400\">"
   ]
  },
  {
   "cell_type": "markdown",
   "id": "c023f148",
   "metadata": {
    "slideshow": {
     "slide_type": "slide"
    }
   },
   "source": [
    "### let's get started\n",
    "What is a terminal:\n",
    "<img src='https://upload.wikimedia.org/wikipedia/commons/9/9f/DEC_VT100_terminal_transparent.png' width=\"400\">\n",
    "\n",
    "* terminal emulators:\n",
    "  * emulating a terminal\n",
    "  * `xterm`\n",
    "  * `gnome-terminal`\n",
    "  * `putty`\n",
    "  * MacTerminal\n",
    "\n",
    "* shells:\n",
    "  * Bourne shell `sh`\n",
    "  * Bourne again shell `bash`\n",
    "  * Z shell `zsh`\n",
    "  * friendly interactive shell `fish`"
   ]
  },
  {
   "cell_type": "code",
   "execution_count": null,
   "id": "6ab7733f",
   "metadata": {
    "slideshow": {
     "slide_type": "slide"
    }
   },
   "outputs": [],
   "source": [
    "ls"
   ]
  },
  {
   "cell_type": "code",
   "execution_count": null,
   "id": "1883dd4f",
   "metadata": {
    "scrolled": true,
    "slideshow": {
     "slide_type": "fragment"
    }
   },
   "outputs": [],
   "source": [
    "pwd\n",
    "cd ~/myConfigFiles\n",
    "pwd"
   ]
  },
  {
   "cell_type": "code",
   "execution_count": null,
   "id": "30072bc0",
   "metadata": {
    "slideshow": {
     "slide_type": "fragment"
    }
   },
   "outputs": [],
   "source": [
    "pwd"
   ]
  },
  {
   "cell_type": "markdown",
   "id": "97c60217",
   "metadata": {
    "slideshow": {
     "slide_type": "slide"
    }
   },
   "source": [
    "### proceeding:\n",
    "* We'll use `bash`: most used shell, found on every installation\n",
    "* no matter if you're using other shells:\n",
    "  * shebang `#!/bin/bash` guarantees execution with `bash`\n",
    "  * https://en.wikipedia.org/wiki/Shebang_(Unix)\n",
    "  * for J: https://fishshell.com/docs/current/fish_for_bash_users.html (i.e. a lot is identical, or only obscure bash parts are not implemented)\n",
    "* here, jupyter with the `bash_kernel`:\n",
    " * see https://github.com/takluyver/bash_kernel\n",
    " * let's us play around easily with the ideas\n",
    " * For installing do: `pip install bash_kernel` and `python -m bash_kernel.install`\n",
    " * otherwise just copy the code to either a script, or directly to a shell\n",
    "   * for completeness, to execute a script you either have to call it with the interpreter you want, so `bash [myscript]`\n",
    "   * or make it executable `chmod u+x [myscript]` and call it directly: `./[myscript]`\n",
    "* slides are on https://github.com/JulianGoeltz/the_thrilling_terminal_tutorial"
   ]
  },
  {
   "cell_type": "markdown",
   "id": "1f158826",
   "metadata": {
    "slideshow": {
     "slide_type": "fragment"
    }
   },
   "source": [
    "## Let's start\n",
    "First **Exercise:** how to do print `Hello, World!`?"
   ]
  },
  {
   "cell_type": "code",
   "execution_count": null,
   "id": "8be8bf78",
   "metadata": {
    "slideshow": {
     "slide_type": "fragment"
    }
   },
   "outputs": [],
   "source": []
  }
 ],
 "metadata": {
  "celltoolbar": "Slideshow",
  "kernelspec": {
   "display_name": "Bash",
   "language": "bash",
   "name": "bash"
  },
  "language_info": {
   "codemirror_mode": "shell",
   "file_extension": ".sh",
   "mimetype": "text/x-sh",
   "name": "bash"
  }
 },
 "nbformat": 4,
 "nbformat_minor": 5
}
