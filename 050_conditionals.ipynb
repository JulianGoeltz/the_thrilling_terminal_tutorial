{
 "cells": [
  {
   "cell_type": "markdown",
   "id": "c82b55d8",
   "metadata": {
    "slideshow": {
     "slide_type": "slide"
    }
   },
   "source": [
    "## `if`s"
   ]
  },
  {
   "cell_type": "code",
   "execution_count": null,
   "id": "66eb710e",
   "metadata": {
    "slideshow": {
     "slide_type": "fragment"
    }
   },
   "outputs": [],
   "source": [
    "if true; then\n",
    "    echo \"true\";\n",
    "else\n",
    "    echo \"false\";\n",
    "fi"
   ]
  },
  {
   "cell_type": "markdown",
   "id": "50aba10b",
   "metadata": {
    "slideshow": {
     "slide_type": "fragment"
    }
   },
   "source": [
    "shorthand sometimes useful: `&&` executes the next command if previous is true, `||` if previous is false"
   ]
  },
  {
   "cell_type": "code",
   "execution_count": null,
   "id": "5fcba350",
   "metadata": {
    "slideshow": {
     "slide_type": "fragment"
    }
   },
   "outputs": [],
   "source": [
    "true  && echo true || echo false\n",
    "false && echo true || echo false"
   ]
  },
  {
   "cell_type": "markdown",
   "id": "dcb176ef",
   "metadata": {
    "slideshow": {
     "slide_type": "slide"
    }
   },
   "source": [
    "### Conditions\n",
    "can be done in a few ways:\n",
    "* return code of a command\n",
    "* single brackets `[ ]`\n",
    "* double brackets `[[ ]]`"
   ]
  },
  {
   "cell_type": "code",
   "execution_count": null,
   "id": "5accd1c4",
   "metadata": {
    "slideshow": {
     "slide_type": "fragment"
    }
   },
   "outputs": [],
   "source": [
    "echo \"the \\$? accesses the return code of the last statement:\"\n",
    "echo $?\n",
    "\n",
    "foobar\n",
    "echo $?\n",
    "\n",
    "foo () {\n",
    "    echo foo\n",
    "    return 1;\n",
    "}\n",
    "foo\n",
    "echo $?\n",
    "\n",
    "echo \"true and false are just commands\"\n",
    "true\n",
    "echo $?\n",
    "false\n",
    "echo $?\n"
   ]
  },
  {
   "cell_type": "markdown",
   "id": "0e6dad7e",
   "metadata": {
    "slideshow": {
     "slide_type": "slide"
    }
   },
   "source": [
    "* `[ ]` is a bit older, sometimes feels unnatural\n",
    "* it's basically a programm called `[` that parses all it's arguments until it finds a `]`\n",
    "* based on the arguments it does different things, helpful to quickly look online e.g. for files https://www.cyberciti.biz/faq/unix-linux-test-existence-of-file-in-bash/\n",
    "* some important things:\n",
    "  * `-f \"path\"` checks if path is a file\n",
    "  * `-d 'path'` checks if path is a directory\n"
   ]
  },
  {
   "cell_type": "code",
   "execution_count": null,
   "id": "b5b2f0aa",
   "metadata": {
    "slideshow": {
     "slide_type": "fragment"
    }
   },
   "outputs": [],
   "source": [
    "[ -f \"050_conditionals.ipynb\" ] && echo \"true\" || echo \"false\"\n",
    "[ -d \"050_conditionals.ipynb\" ] && echo \"true\" || echo \"false\"\n",
    "\n",
    "[ -e \"050_conditionals.ipynb\" ] && echo \"true\" || echo \"false\""
   ]
  },
  {
   "cell_type": "markdown",
   "id": "3b6b1897",
   "metadata": {
    "slideshow": {
     "slide_type": "slide"
    }
   },
   "source": [
    "* \n",
    "  * `-n \"string\"` checks true if string is nonempty\n",
    "  * `-z \"string\"` checks true if string is zero (empty)\n"
   ]
  },
  {
   "cell_type": "code",
   "execution_count": null,
   "id": "8829b52b",
   "metadata": {
    "slideshow": {
     "slide_type": "fragment"
    }
   },
   "outputs": [],
   "source": [
    "var=\"s\"\n",
    "[ -n \"${var}\" ] && echo \"true\" || echo \"false\"\n",
    "[ -z \"${var}\" ] && echo \"true\" || echo \"false\""
   ]
  },
  {
   "cell_type": "markdown",
   "id": "45a11968",
   "metadata": {
    "slideshow": {
     "slide_type": "slide"
    }
   },
   "source": [
    "* \n",
    "  * `\"int\" -eq \"int\"` checks for equality of the ints (`-ne` checks for inequality)\n",
    "  * `\"int\" -lt \"int\"` checks for lesser than\n",
    "* can be combined with `-a` for `and` and `-o` for `or`, but often easier to do "
   ]
  },
  {
   "cell_type": "code",
   "execution_count": null,
   "id": "60b1a273",
   "metadata": {
    "slideshow": {
     "slide_type": "fragment"
    }
   },
   "outputs": [],
   "source": [
    "var1=1\n",
    "var2=1\n",
    "[ \"$var1\" -eq \"$var2\" ] && echo \"true\" || echo \"false\"\n",
    "[ \"$var1\" -ne \"$var2\" ] && echo \"true\" || echo \"false\"\n",
    "[ \"$var1\" -lt \"$var2\" ] && echo \"true\" || echo \"false\"\n",
    "[ \"$var1\" -le \"$var2\" ] && echo \"true\" || echo \"false\""
   ]
  },
  {
   "cell_type": "markdown",
   "id": "6d2685a8",
   "metadata": {
    "slideshow": {
     "slide_type": "slide"
    }
   },
   "source": [
    "**Exercise:**\n",
    "* what happens when we give a folder?\n",
    "* write a function that prints whether the argument is a file or a directory\n",
    "* what does the script below do\n",
    "```\n",
    "filename=~/.tmp_squeueRepeat_new\n",
    "timeforGeneration=20\n",
    "timeSinceTouch=$(($(date +%s) - $(stat -c %Y $filename)))\n",
    "redoAfter=$(($repeatEvery + $timeforGeneration))\n",
    "if [ $timeSinceTouch -lt $redoAfter ]; then\n",
    "[...]\n",
    "```"
   ]
  },
  {
   "cell_type": "markdown",
   "id": "cd39dbc0",
   "metadata": {
    "slideshow": {
     "slide_type": "slide"
    }
   },
   "source": [
    "### `[[ ]]`\n",
    "is similar, but has more functionality, e.g. pattern matching\n",
    "e.g.\n",
    "```\n",
    "if [[ \"$(hostname)\" =~ \"hel\" ]] || [[ \"$(hostname)\" =~ \"RyzenHost\" ]]; then\n",
    "```\n",
    "that matches a lot of hostnames in the cluster in heidelberg (`hel`, `helvetica`, and all `RyzenHost0-4`)\n",
    "\n",
    "**But what actually is pattern matching?**"
   ]
  }
 ],
 "metadata": {
  "celltoolbar": "Slideshow",
  "kernelspec": {
   "display_name": "Bash",
   "language": "bash",
   "name": "bash"
  },
  "language_info": {
   "codemirror_mode": "shell",
   "file_extension": ".sh",
   "mimetype": "text/x-sh",
   "name": "bash"
  }
 },
 "nbformat": 4,
 "nbformat_minor": 5
}
