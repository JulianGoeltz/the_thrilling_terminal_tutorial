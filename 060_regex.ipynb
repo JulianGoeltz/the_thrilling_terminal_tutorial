{
 "cells": [
  {
   "cell_type": "markdown",
   "id": "a26f7393",
   "metadata": {
    "slideshow": {
     "slide_type": "slide"
    }
   },
   "source": [
    "## Pattern matching: `grep`ing and globbing\n",
    "* if we know the pattern of a string, but not the exact form\n",
    "* first globbing, direct feature of your shell (i.e. can be different between bash, zsh..)\n",
    "\n",
    "assume you want to list and count the ipython notebooks in the current directory:"
   ]
  },
  {
   "cell_type": "code",
   "execution_count": null,
   "id": "dd311782",
   "metadata": {
    "slideshow": {
     "slide_type": "fragment"
    }
   },
   "outputs": [],
   "source": [
    "ls"
   ]
  },
  {
   "cell_type": "code",
   "execution_count": null,
   "id": "dcd909c0",
   "metadata": {
    "slideshow": {
     "slide_type": "fragment"
    }
   },
   "outputs": [],
   "source": [
    "ls | wc -l"
   ]
  },
  {
   "cell_type": "markdown",
   "id": "5ef48ce8",
   "metadata": {
    "slideshow": {
     "slide_type": "slide"
    }
   },
   "source": [
    "basically:\n",
    "* `*` matches arbitrary (amounts and types of) characters\n",
    "* `?` matches ONE arbitraty character\n",
    "* `**` matches paths across directory boundaries (in `bash` with `shopt -s globstar`, by default in `zsh`)\n",
    "\n",
    "also not globs but allows one 'string' to be expanded into multiple things:\n",
    "* `{x,y}` expands to both `x` and `y`"
   ]
  },
  {
   "cell_type": "code",
   "execution_count": null,
   "id": "484c649b",
   "metadata": {
    "slideshow": {
     "slide_type": "fragment"
    }
   },
   "outputs": [],
   "source": [
    "ls *.ipynb | wc -l"
   ]
  },
  {
   "cell_type": "code",
   "execution_count": null,
   "id": "e9b6d246",
   "metadata": {
    "slideshow": {
     "slide_type": "fragment"
    }
   },
   "outputs": [],
   "source": [
    "ls 0?0_*.ipynb | wc -l"
   ]
  },
  {
   "cell_type": "code",
   "execution_count": null,
   "id": "a542475a",
   "metadata": {
    "slideshow": {
     "slide_type": "fragment"
    }
   },
   "outputs": [],
   "source": [
    "ls 0{0,1,2,3,7}0_*.ipynb | wc -l"
   ]
  },
  {
   "cell_type": "code",
   "execution_count": null,
   "id": "55f14519",
   "metadata": {
    "slideshow": {
     "slide_type": "fragment"
    }
   },
   "outputs": [],
   "source": [
    "ls 0{0,1,2,3,7,10}0_*.ipynb | wc -l"
   ]
  },
  {
   "cell_type": "code",
   "execution_count": null,
   "id": "554a48b5",
   "metadata": {
    "slideshow": {
     "slide_type": "fragment"
    }
   },
   "outputs": [],
   "source": [
    "diff /home/julgoe/Documents/utils/{fastAndDeep,fastAndDeep_old/fastAndDeep_betweenRepos}/src/experiment.py | wc -l"
   ]
  },
  {
   "cell_type": "code",
   "execution_count": null,
   "id": "e90292d2",
   "metadata": {
    "slideshow": {
     "slide_type": "fragment"
    }
   },
   "outputs": [],
   "source": [
    "shopt -s globstar\n",
    "ls ../**/*.tex | head"
   ]
  },
  {
   "cell_type": "markdown",
   "id": "cafc4102",
   "metadata": {
    "slideshow": {
     "slide_type": "slide"
    }
   },
   "source": [
    "## regex and grep and sed\n",
    "\n",
    "* regex allows more complicated patterns, including 'matching groups'\n",
    "* IMHO confusing and complicated, but speeds up tasks amazingly!\n",
    "* very helpful ressource at the beginning: https://regex101.com/\n",
    "\n",
    "for just matching we use `grep`, more on that in a second"
   ]
  },
  {
   "cell_type": "markdown",
   "id": "a0b0afe0",
   "metadata": {
    "slideshow": {
     "slide_type": "slide"
    }
   },
   "source": [
    "* general idea:\n",
    "  * everything that's not a number is a command\n",
    "  * `[]` denote groups of charactes:\n",
    "    * leading `^` inverts group\n",
    "    * `-` used to shorten ranges like `a-z`\n",
    "  * `.` is 'any char'\n",
    "  * each letter/group can have a multiplier:\n",
    "    * `*` arbitrary number of times (0 or more)\n",
    "    * `+` at least once\n",
    "    * `?` 0 or 1 time\n",
    "    * `{n,m}` between n and m times\n",
    "    * this can be greedy or nongreedy (matching as many or as little as possible), for us usually greedy\n",
    "  * special abbreviations for classes like chars, numbers, whitespace\n",
    "  * `^` is line start, `$` is line end\n",
    "  * `()` for matching groups, also different patterns"
   ]
  },
  {
   "cell_type": "code",
   "execution_count": null,
   "id": "8c4e587d",
   "metadata": {
    "slideshow": {
     "slide_type": "fragment"
    }
   },
   "outputs": [],
   "source": [
    "testpattern () { echo -n \"Pattern '$1': \"; echo \"foobar4206969\" | grep --color=auto -P $1; }\n",
    "testpattern \"foo\""
   ]
  },
  {
   "cell_type": "code",
   "execution_count": null,
   "id": "d698f9f1",
   "metadata": {
    "slideshow": {
     "slide_type": "fragment"
    }
   },
   "outputs": [],
   "source": [
    "testpattern \"[for]\""
   ]
  },
  {
   "cell_type": "code",
   "execution_count": null,
   "id": "3824f3be",
   "metadata": {
    "slideshow": {
     "slide_type": "fragment"
    }
   },
   "outputs": [],
   "source": [
    "testpattern \"[a-z079]\""
   ]
  },
  {
   "cell_type": "code",
   "execution_count": null,
   "id": "3dff1122",
   "metadata": {
    "slideshow": {
     "slide_type": "fragment"
    }
   },
   "outputs": [],
   "source": [
    "testpattern \"[a-z079]{2,5}\""
   ]
  },
  {
   "cell_type": "code",
   "execution_count": null,
   "id": "cca63283",
   "metadata": {
    "slideshow": {
     "slide_type": "fragment"
    }
   },
   "outputs": [],
   "source": [
    "testpattern \"(foo|420)\""
   ]
  },
  {
   "cell_type": "markdown",
   "id": "82053b39",
   "metadata": {
    "slideshow": {
     "slide_type": "slide"
    }
   },
   "source": [
    "`grep` either looks in the `stdin` or to the files it is given.\n",
    "the output is generally the lines that match the pattern\n",
    "\n",
    "important options are:\n",
    "* `--color=` to highlight the matches\n",
    "* `-r` look recursively in all the folders\n",
    "* `-P` extended, perl regex\n",
    "* `-v` invert the matches\n",
    "* `-i` case-insensitive\n",
    "* `-o` only return the parts matching the pattern (i.e. the coloured bits above)"
   ]
  },
  {
   "cell_type": "code",
   "execution_count": null,
   "id": "dd203ea1",
   "metadata": {},
   "outputs": [],
   "source": [
    "echo \"foobar4206969\" | grep --color=auto -P \"(foo|420)\"\n",
    "echo\n",
    "echo \"foobar4206969\" | grep --color=auto -Po \"(foo|420)\""
   ]
  },
  {
   "cell_type": "markdown",
   "id": "6e79b3d5",
   "metadata": {
    "slideshow": {
     "slide_type": "slide"
    }
   },
   "source": [
    "This last one has a special use (`-o`):\n",
    "* `\\K` means that the 'match begins at that point\n",
    "* similarly, `(?=PATTERN)` matches the PATTERN but doesn't include it in the match"
   ]
  },
  {
   "cell_type": "code",
   "execution_count": null,
   "id": "8214d582",
   "metadata": {
    "slideshow": {
     "slide_type": "fragment"
    }
   },
   "outputs": [],
   "source": [
    "iw dev wlp0s20f3 link"
   ]
  },
  {
   "cell_type": "code",
   "execution_count": null,
   "id": "2ae38df2",
   "metadata": {
    "slideshow": {
     "slide_type": "fragment"
    }
   },
   "outputs": [],
   "source": [
    "iw dev wlp0s20f3 link | grep -P \"SSID:\""
   ]
  },
  {
   "cell_type": "code",
   "execution_count": null,
   "id": "bf1e73b1",
   "metadata": {
    "slideshow": {
     "slide_type": "fragment"
    }
   },
   "outputs": [],
   "source": [
    "iw dev wlp0s20f3 link | grep -oP \"SSID: \\K.*\""
   ]
  },
  {
   "cell_type": "code",
   "execution_count": null,
   "id": "67f0396e",
   "metadata": {
    "slideshow": {
     "slide_type": "fragment"
    }
   },
   "outputs": [],
   "source": [
    "ls | grep -oP \"^[0-9]{3}_\\K.*(?=\\.ipynb)\""
   ]
  },
  {
   "cell_type": "markdown",
   "id": "9f57102f",
   "metadata": {
    "slideshow": {
     "slide_type": "slide"
    }
   },
   "source": [
    "### `sed` and replacements\n",
    "\n",
    "* search pattern and replace with something else\n",
    "* syntax `'s/PATTERN/REPLACEMENT/OPTIONS'`\n",
    "* the delimeter (`/` in this case) can be chosen, e.g. `#`. this helps when working with paths including slashes\n",
    "* matched pattern can be reused in replacement\n",
    "* can be used in your favourite editor as well\n",
    "  * in `vim`: select some text, do `:s/....`;\n",
    "  * or for the whole file do `:%s/...`"
   ]
  },
  {
   "cell_type": "code",
   "execution_count": null,
   "id": "eab985fd",
   "metadata": {
    "slideshow": {
     "slide_type": "fragment"
    }
   },
   "outputs": [],
   "source": [
    "ls | grep -P \"[0-9]+.*\\.ipynb\" | sed 's/.ipynb//'"
   ]
  },
  {
   "cell_type": "code",
   "execution_count": null,
   "id": "0745a999",
   "metadata": {
    "slideshow": {
     "slide_type": "fragment"
    }
   },
   "outputs": [],
   "source": [
    "ls | grep -P \"[0-9]+.*\\.ipynb\" | sed -E 's/(.*).ipynb/iPython Notebook: \\1/'"
   ]
  },
  {
   "cell_type": "markdown",
   "id": "1e4c9ab6",
   "metadata": {
    "slideshow": {
     "slide_type": "fragment"
    }
   },
   "source": [
    "Can work on files as well, also `-i/--in-place`, example (this will change files, be sure to only execute in sensible places)\n",
    "\n",
    "```\n",
    "sed -i 's/selfpredicting/self-predicting/g' **/*.tex\n",
    "```\n",
    "\n",
    "\n",
    "For a fun one look e.g. [here](https://github.com/JulianGoeltz/automised_latex_template/blob/main/additionalInfo.md#applying-changes)"
   ]
  },
  {
   "cell_type": "markdown",
   "id": "376788f0",
   "metadata": {
    "slideshow": {
     "slide_type": "slide"
    }
   },
   "source": [
    "**Exercise:**\n",
    "* Write a function `clearFilename` that get's a path and returns only the alphanumeric parts (bonus for doing it once with sed, and once with grep)\n",
    "* Write a function that takes a filename 'foobarr_2.pickle' and returns it with the extension, the number and underscore removed. How would you automatically rename all/a subset of files in a folder using this function?\n",
    "* Given an squeue function like below, return all jobs running on a RyzenHost with only the last 3 digits of their jobid and their username"
   ]
  },
  {
   "cell_type": "code",
   "execution_count": null,
   "id": "8c71af3c",
   "metadata": {
    "slideshow": {
     "slide_type": "fragment"
    }
   },
   "outputs": [],
   "source": []
  },
  {
   "cell_type": "code",
   "execution_count": null,
   "id": "c039894e",
   "metadata": {
    "slideshow": {
     "slide_type": "fragment"
    }
   },
   "outputs": [],
   "source": [
    "filename='foobar_2.pickle'"
   ]
  },
  {
   "cell_type": "code",
   "execution_count": null,
   "id": "677a5320",
   "metadata": {
    "slideshow": {
     "slide_type": "fragment"
    }
   },
   "outputs": [],
   "source": [
    "squeue () {\n",
    "    cat <<-EOF\n",
    "Thu Dec 01 19:54:51 2022\n",
    "             JOBID PARTITION     NAME     USER    STATE       TIME TIME_LIMI  NODES NODELIST(REASON) \n",
    "           4479803      cube clustern quiggeld  PENDING       0:00   6:00:00      1 (launch failed requeued held) \n",
    "           4486967      cube clustern quiggeld  PENDING       0:00   6:00:00      1 (launch failed requeued held) \n",
    "           4487128      cube clustern quiggeld  PENDING       0:00   6:00:00      1 (launch failed requeued held) \n",
    "           4487826      cube clustern quiggeld  PENDING       0:00   6:00:00      1 (launch failed requeued held) \n",
    "           4488503      cube clustern quiggeld  PENDING       0:00   6:00:00      1 (launch failed requeued held) \n",
    "           4492183      cube clustern quiggeld  PENDING       0:00   6:00:00      1 (launch failed requeued held) \n",
    "           4503427      cube clustern quiggeld  RUNNING    2:22:00   6:00:00      1 RyzenHost0 \n",
    "           4503266      cube clustern quiggeld  RUNNING    4:11:31   6:00:00      1 RyzenHost0 \n",
    "           4503251      cube clustern quiggeld  RUNNING    4:19:00   6:00:00      1 RyzenHost0 \n",
    "           4503355  cubectrl     bash rheinema  RUNNING    3:03:15  12:00:00      1 HBPHost19 \n",
    "           4459022      einc singular luboeins  RUNNING 21-05:45:01 UNLIMITED      1 EINCHost0 \n",
    "           4460179      einc singular luboeins  RUNNING 20-01:38:19 UNLIMITED      1 EINCHost0 \n",
    "           4502964    extoll     bash  thommes  RUNNING    7:00:00 UNLIMITED      1 EXTHost1 \n",
    "EOF\n",
    "}\n",
    "\n",
    "squeue"
   ]
  }
 ],
 "metadata": {
  "celltoolbar": "Slideshow",
  "kernelspec": {
   "display_name": "Bash",
   "language": "bash",
   "name": "bash"
  },
  "language_info": {
   "codemirror_mode": "shell",
   "file_extension": ".sh",
   "mimetype": "text/x-sh",
   "name": "bash"
  }
 },
 "nbformat": 4,
 "nbformat_minor": 5
}
