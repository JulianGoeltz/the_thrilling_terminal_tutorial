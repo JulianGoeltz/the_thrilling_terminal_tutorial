{
 "cells": [
  {
   "cell_type": "markdown",
   "id": "7b457279",
   "metadata": {
    "slideshow": {
     "slide_type": "slide"
    }
   },
   "source": [
    "## From one function to another\n",
    "\n",
    "* redirect output to a file\n",
    "* stdin vs stderr\n",
    "* piping\n",
    "\n",
    "(`cat` outputs a file)"
   ]
  },
  {
   "cell_type": "code",
   "execution_count": null,
   "id": "817d2fab",
   "metadata": {
    "slideshow": {
     "slide_type": "slide"
    }
   },
   "outputs": [],
   "source": [
    "foo () {\n",
    "    echo \"Hello, World!\"\n",
    "}\n",
    "\n",
    "foo"
   ]
  },
  {
   "cell_type": "code",
   "execution_count": null,
   "id": "d309b561",
   "metadata": {
    "slideshow": {
     "slide_type": "fragment"
    }
   },
   "outputs": [],
   "source": [
    "foo > temporaryfilethatwedeleteafterwards.txt\n",
    "ls -l temporaryfilethatwedeleteafterwards.txt"
   ]
  },
  {
   "cell_type": "code",
   "execution_count": null,
   "id": "30b1e7e3",
   "metadata": {
    "slideshow": {
     "slide_type": "fragment"
    }
   },
   "outputs": [],
   "source": [
    "cat temporaryfilethatwedeleteafterwards.txt"
   ]
  },
  {
   "cell_type": "code",
   "execution_count": null,
   "id": "83638cbe",
   "metadata": {
    "slideshow": {
     "slide_type": "fragment"
    }
   },
   "outputs": [],
   "source": [
    "foo > temporaryfilethatwedeleteafterwards.txt\n",
    "cat temporaryfilethatwedeleteafterwards.txt"
   ]
  },
  {
   "cell_type": "code",
   "execution_count": null,
   "id": "695a7d6e",
   "metadata": {
    "slideshow": {
     "slide_type": "fragment"
    }
   },
   "outputs": [],
   "source": [
    "foo >> temporaryfilethatwedeleteafterwards.txt\n",
    "cat temporaryfilethatwedeleteafterwards.txt"
   ]
  },
  {
   "cell_type": "markdown",
   "id": "0c2f0de9",
   "metadata": {
    "slideshow": {
     "slide_type": "slide"
    }
   },
   "source": [
    "* so `>` directs to a file, `>>` appends to a file\n",
    "* there's a special file `/dev/null`"
   ]
  },
  {
   "cell_type": "code",
   "execution_count": null,
   "id": "a10fb4ca",
   "metadata": {
    "slideshow": {
     "slide_type": "fragment"
    }
   },
   "outputs": [],
   "source": [
    "foo > /dev/null"
   ]
  },
  {
   "cell_type": "code",
   "execution_count": null,
   "id": "73e99460",
   "metadata": {
    "slideshow": {
     "slide_type": "slide"
    }
   },
   "outputs": [],
   "source": [
    "bar () {\n",
    "    python -c \"print('bla'); import lalal\"\n",
    "}"
   ]
  },
  {
   "cell_type": "code",
   "execution_count": null,
   "id": "6f16f78f",
   "metadata": {
    "slideshow": {
     "slide_type": "fragment"
    }
   },
   "outputs": [],
   "source": [
    "bar > /dev/null"
   ]
  },
  {
   "cell_type": "code",
   "execution_count": null,
   "id": "8a03bbaf",
   "metadata": {
    "slideshow": {
     "slide_type": "fragment"
    }
   },
   "outputs": [],
   "source": [
    "bar 2> /dev/null"
   ]
  },
  {
   "cell_type": "code",
   "execution_count": null,
   "id": "fc1ca30a",
   "metadata": {
    "slideshow": {
     "slide_type": "fragment"
    }
   },
   "outputs": [],
   "source": [
    "bar >/dev/null 2>&1"
   ]
  },
  {
   "cell_type": "markdown",
   "id": "33812a41",
   "metadata": {
    "slideshow": {
     "slide_type": "slide"
    }
   },
   "source": [
    "## Pipes\n",
    "\n",
    "To get info from one command to another: one command outputs into file, another command reads it\n",
    "Better way: `|`"
   ]
  },
  {
   "cell_type": "code",
   "execution_count": null,
   "id": "9f854925",
   "metadata": {
    "slideshow": {
     "slide_type": "fragment"
    }
   },
   "outputs": [],
   "source": [
    "env | sort"
   ]
  },
  {
   "cell_type": "markdown",
   "id": "4c9a904e",
   "metadata": {
    "slideshow": {
     "slide_type": "slide"
    }
   },
   "source": [
    "## This is where the shell becomes powerful: easy way to combine arbitrary commands."
   ]
  },
  {
   "cell_type": "code",
   "execution_count": null,
   "id": "53a6b8ed",
   "metadata": {
    "slideshow": {
     "slide_type": "fragment"
    }
   },
   "outputs": [],
   "source": [
    "ls\n",
    "echo\n",
    "ls | wc -l"
   ]
  },
  {
   "cell_type": "code",
   "execution_count": null,
   "id": "ba450c67",
   "metadata": {
    "slideshow": {
     "slide_type": "fragment"
    }
   },
   "outputs": [],
   "source": [
    "env | sort | head\n",
    "echo\n",
    "env | sort | tail"
   ]
  }
 ],
 "metadata": {
  "celltoolbar": "Slideshow",
  "kernelspec": {
   "display_name": "Bash",
   "language": "bash",
   "name": "bash"
  },
  "language_info": {
   "codemirror_mode": "shell",
   "file_extension": ".sh",
   "mimetype": "text/x-sh",
   "name": "bash"
  }
 },
 "nbformat": 4,
 "nbformat_minor": 5
}
