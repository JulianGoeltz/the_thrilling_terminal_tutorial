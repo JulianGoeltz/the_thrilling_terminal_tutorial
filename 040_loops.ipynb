{
 "cells": [
  {
   "cell_type": "markdown",
   "id": "a92c506f",
   "metadata": {
    "slideshow": {
     "slide_type": "slide"
    }
   },
   "source": [
    "## Loop constructs\n",
    "* most important one is `for`\n",
    "* used as `for VARNAME in SPACESEPARATED; do COMMAND; done`\n",
    "* actually `$IFS` (inter field separator) separated, can be changed if need be\n"
   ]
  },
  {
   "cell_type": "code",
   "execution_count": null,
   "id": "3838c914",
   "metadata": {
    "slideshow": {
     "slide_type": "fragment"
    }
   },
   "outputs": [],
   "source": [
    "for i in 1 2 3; do\n",
    "    echo $i;\n",
    "done"
   ]
  },
  {
   "cell_type": "code",
   "execution_count": null,
   "id": "284ad562",
   "metadata": {
    "slideshow": {
     "slide_type": "fragment"
    }
   },
   "outputs": [],
   "source": [
    "for i in \"1 2\" 3; do\n",
    "    echo $i;\n",
    "done"
   ]
  },
  {
   "cell_type": "code",
   "execution_count": null,
   "id": "4b3d97a7",
   "metadata": {
    "slideshow": {
     "slide_type": "fragment"
    }
   },
   "outputs": [],
   "source": [
    "for i in $(seq 5); do\n",
    "    echo $i\n",
    "done"
   ]
  },
  {
   "cell_type": "markdown",
   "id": "68da08c0",
   "metadata": {
    "slideshow": {
     "slide_type": "slide"
    }
   },
   "source": [
    "**Exercises:**\n",
    "* Return the numbers 5 to 10\n",
    "* For each file in the folder, list the unix timestamp (seconds since Epoch) of the last modification (see `stat` for this)"
   ]
  },
  {
   "cell_type": "code",
   "execution_count": null,
   "id": "ac7643de",
   "metadata": {
    "slideshow": {
     "slide_type": "fragment"
    }
   },
   "outputs": [],
   "source": []
  },
  {
   "cell_type": "code",
   "execution_count": null,
   "id": "f5849bbb",
   "metadata": {
    "slideshow": {
     "slide_type": "fragment"
    }
   },
   "outputs": [],
   "source": []
  },
  {
   "cell_type": "markdown",
   "id": "9e94aefd",
   "metadata": {
    "slideshow": {
     "slide_type": "slide"
    }
   },
   "source": [
    "**Exercise:**\n",
    "borrowed from https://missing.csail.mit.edu/2020/shell-tools/:\n",
    "> Say you have a command that fails rarely. In order to debug it you need to capture its output but it can be time consuming to get a failure run. Write a bash script that runs the following script until it fails and captures its standard output and error streams to files and prints everything at the end. Bonus points if you can also report how many runs it took for the script to fail."
   ]
  },
  {
   "cell_type": "code",
   "execution_count": null,
   "id": "eb6ea3ec",
   "metadata": {
    "slideshow": {
     "slide_type": "fragment"
    }
   },
   "outputs": [],
   "source": [
    "cat <<EOL > tmpscript_loops.sh\n",
    "#!/usr/bin/env bash\n",
    "\n",
    "n=\\$(( RANDOM % 100 ))\n",
    "if [[ n -eq 0 ]]; then\n",
    "    echo \"Something went wrong\"\n",
    "    echo \"The error was using magic numbers\" >&2 \n",
    "    exit 1\n",
    "fi\n",
    "\n",
    "echo \"Everything went according to plan\"\n",
    "EOL\n",
    "\n",
    "ls -l tmpscript_loops.sh\n",
    "# cat tmpscript_loops.sh\n",
    "bash tmpscript_loops.sh"
   ]
  },
  {
   "cell_type": "code",
   "execution_count": null,
   "id": "c9fa37ea",
   "metadata": {
    "slideshow": {
     "slide_type": "fragment"
    }
   },
   "outputs": [],
   "source": []
  },
  {
   "cell_type": "markdown",
   "id": "87bef867",
   "metadata": {
    "slideshow": {
     "slide_type": "slide"
    }
   },
   "source": [
    "## other structures:\n",
    "* `while` (I only use this copied for reading input; or in a combination with `true` and `sleep`)\n",
    "* `case` to go through different cases\n"
   ]
  },
  {
   "cell_type": "code",
   "execution_count": null,
   "id": "e6d34716",
   "metadata": {
    "slideshow": {
     "slide_type": "fragment"
    }
   },
   "outputs": [],
   "source": [
    "while true; do date; sleep 1; done"
   ]
  },
  {
   "cell_type": "code",
   "execution_count": null,
   "id": "e596bb23",
   "metadata": {
    "slideshow": {
     "slide_type": "fragment"
    }
   },
   "outputs": [],
   "source": [
    "# from https://github.com/JulianGoeltz/myConfigFiles/blob/master/toolbox/whichLicences.sh#L41\n",
    "# parse potential arguments\n",
    "case $1 in\n",
    "    \"-s\"|\"--skip\")\n",
    "        patternForSkipping=$2\n",
    "        shift 2\n",
    "        ;;\n",
    "    \"-c\"|\"--color\"|\"--colour\")\n",
    "        LLSS=$2\n",
    "        shift 2\n",
    "        ;;\n",
    "    \"-h\"|\"--help\"|*)\n",
    "        help_text\n",
    "        exit\n",
    "        ;;\n",
    "esac\n"
   ]
  }
 ],
 "metadata": {
  "celltoolbar": "Slideshow",
  "kernelspec": {
   "display_name": "Bash",
   "language": "bash",
   "name": "bash"
  },
  "language_info": {
   "codemirror_mode": "shell",
   "file_extension": ".sh",
   "mimetype": "text/x-sh",
   "name": "bash"
  }
 },
 "nbformat": 4,
 "nbformat_minor": 5
}
