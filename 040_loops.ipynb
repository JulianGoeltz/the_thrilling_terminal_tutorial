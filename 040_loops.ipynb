{
 "cells": [
  {
   "cell_type": "markdown",
   "id": "a92c506f",
   "metadata": {},
   "source": [
    "## Loop constructs\n",
    "* most important one is `for`\n",
    "* used as `for VARNAME in SPACESEPARATED; do COMMAND; done`\n",
    "* actually `$IFS` (inter field separator) separated, can be changed if need be\n"
   ]
  },
  {
   "cell_type": "code",
   "execution_count": null,
   "id": "3838c914",
   "metadata": {},
   "outputs": [],
   "source": [
    "for i in 1 2 3; do\n",
    "    echo $i;\n",
    "done"
   ]
  },
  {
   "cell_type": "code",
   "execution_count": null,
   "id": "284ad562",
   "metadata": {},
   "outputs": [],
   "source": [
    "for i in \"1 2\" 3; do\n",
    "    echo $i;\n",
    "done"
   ]
  },
  {
   "cell_type": "code",
   "execution_count": null,
   "id": "4b3d97a7",
   "metadata": {},
   "outputs": [],
   "source": [
    "for i in $(seq 5); do\n",
    "    echo $i\n",
    "done"
   ]
  },
  {
   "cell_type": "markdown",
   "id": "68da08c0",
   "metadata": {},
   "source": [
    "**Exercise:** return the numbers 5 to 10"
   ]
  },
  {
   "cell_type": "code",
   "execution_count": null,
   "id": "ac7643de",
   "metadata": {},
   "outputs": [],
   "source": []
  },
  {
   "cell_type": "markdown",
   "id": "b67a73c8",
   "metadata": {},
   "source": [
    "**Exercise:** for each file in the folder, list the unix timestamp (seconds since Epoch) of the last modification (see `stat` for this)"
   ]
  },
  {
   "cell_type": "code",
   "execution_count": null,
   "id": "f5849bbb",
   "metadata": {},
   "outputs": [],
   "source": []
  },
  {
   "cell_type": "markdown",
   "id": "87bef867",
   "metadata": {},
   "source": [
    "## other structures:\n",
    "* `while` (I only use this copied for reading input; or in a combination with `true` and `sleep`)\n",
    "* `case` to go through different cases\n"
   ]
  },
  {
   "cell_type": "code",
   "execution_count": null,
   "id": "e6d34716",
   "metadata": {},
   "outputs": [],
   "source": [
    "while true; do date; sleep 1; done"
   ]
  },
  {
   "cell_type": "code",
   "execution_count": null,
   "id": "e596bb23",
   "metadata": {},
   "outputs": [],
   "source": [
    "# from https://github.com/JulianGoeltz/myConfigFiles/blob/master/toolbox/whichLicences.sh#L41\n",
    "# parse potential arguments\n",
    "case $1 in\n",
    "    \"-s\"|\"--skip\")\n",
    "        patternForSkipping=$2\n",
    "        shift 2\n",
    "        ;;\n",
    "    \"-c\"|\"--color\"|\"--colour\")\n",
    "        LLSS=$2\n",
    "        shift 2\n",
    "        ;;\n",
    "    \"-h\"|\"--help\"|*)\n",
    "        help_text\n",
    "        exit\n",
    "        ;;\n",
    "esac\n"
   ]
  }
 ],
 "metadata": {
  "kernelspec": {
   "display_name": "Bash",
   "language": "bash",
   "name": "bash"
  },
  "language_info": {
   "codemirror_mode": "shell",
   "file_extension": ".sh",
   "mimetype": "text/x-sh",
   "name": "bash"
  }
 },
 "nbformat": 4,
 "nbformat_minor": 5
}
