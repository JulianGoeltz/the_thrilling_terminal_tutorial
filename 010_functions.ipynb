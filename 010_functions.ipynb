{
 "cells": [
  {
   "cell_type": "markdown",
   "id": "2ce2e255",
   "metadata": {
    "slideshow": {
     "slide_type": "slide"
    }
   },
   "source": [
    "# Reusing stuff\n",
    "\n",
    "* variables\n",
    "* aliases\n",
    "* functions (are also scripts)\n"
   ]
  },
  {
   "cell_type": "markdown",
   "id": "74b07184",
   "metadata": {
    "slideshow": {
     "slide_type": "slide"
    }
   },
   "source": [
    "## Variables\n",
    "* Caution: spaces ` ` are very important here\n",
    "* variables are declared like `variableName=value` and can be used as `$variableName`\n",
    "* differences between double quotes `\"` and single quotes `'`: double get expanded, single not"
   ]
  },
  {
   "cell_type": "code",
   "execution_count": null,
   "id": "5a4dc1a7",
   "metadata": {
    "slideshow": {
     "slide_type": "fragment"
    }
   },
   "outputs": [],
   "source": [
    "variable=FOO\n",
    "echo $variable\n"
   ]
  },
  {
   "cell_type": "code",
   "execution_count": null,
   "id": "febdc6e7",
   "metadata": {
    "slideshow": {
     "slide_type": "fragment"
    }
   },
   "outputs": [],
   "source": [
    "variableTwo=\"BAR BAR\"\n",
    "echo $variableTwo"
   ]
  },
  {
   "cell_type": "code",
   "execution_count": null,
   "id": "72e10e23",
   "metadata": {
    "slideshow": {
     "slide_type": "fragment"
    }
   },
   "outputs": [],
   "source": [
    "variable3=\"$variable; $variableTwo\"\n",
    "echo $variable3"
   ]
  },
  {
   "cell_type": "code",
   "execution_count": null,
   "id": "41d3d12c",
   "metadata": {
    "slideshow": {
     "slide_type": "fragment"
    }
   },
   "outputs": [],
   "source": [
    "echo \"$variable3\""
   ]
  },
  {
   "cell_type": "code",
   "execution_count": null,
   "id": "9907ac3d",
   "metadata": {
    "slideshow": {
     "slide_type": "fragment"
    }
   },
   "outputs": [],
   "source": [
    "echo '$variable3'"
   ]
  },
  {
   "cell_type": "markdown",
   "id": "fdaeff66",
   "metadata": {
    "slideshow": {
     "slide_type": "slide"
    }
   },
   "source": [
    "How to concatenate strings: just do it"
   ]
  },
  {
   "cell_type": "code",
   "execution_count": null,
   "id": "d836f1da",
   "metadata": {
    "slideshow": {
     "slide_type": "fragment"
    }
   },
   "outputs": [],
   "source": [
    "var=\"bla\"'$variable'\"$variable\"'\"$variable\"'\"'$variable'\"\n",
    "echo $var"
   ]
  },
  {
   "cell_type": "markdown",
   "id": "423215f7",
   "metadata": {
    "slideshow": {
     "slide_type": "slide"
    }
   },
   "source": [
    "### variable visibility\n",
    "it's a bit tricky, important point is: if you want a variable to be accessible from other scripts, you have to `export` it"
   ]
  },
  {
   "cell_type": "code",
   "execution_count": null,
   "id": "dca02af0",
   "metadata": {
    "slideshow": {
     "slide_type": "slide"
    }
   },
   "outputs": [],
   "source": [
    "# prepare script (with a heredoc for easy multiline strings)\n",
    "unset $x\n",
    "\n",
    "cat << EOF > tmpscript.sh\n",
    "echo \"from script: \\$x\"\n",
    "EOF\n",
    "\n",
    "echo \"script:\"\n",
    "echo '```'\n",
    "cat tmpscript.sh\n",
    "echo '```'\n",
    "\n",
    "echo \"=========\"\n",
    "# prepare variable\n",
    "x=\"foo\"\n",
    "\n",
    "# check variable\n",
    "\n",
    "bash tmpscript.sh\n",
    "\n",
    "echo \"within jupyter: $x\""
   ]
  },
  {
   "cell_type": "code",
   "execution_count": null,
   "id": "095aa88c",
   "metadata": {
    "slideshow": {
     "slide_type": "slide"
    }
   },
   "outputs": [],
   "source": [
    "env"
   ]
  },
  {
   "cell_type": "code",
   "execution_count": null,
   "id": "a36842e3",
   "metadata": {
    "slideshow": {
     "slide_type": "slide"
    }
   },
   "outputs": [],
   "source": [
    "echo SHELL=$SHELL\n",
    "echo PWD=$PWD\n",
    "echo HOME=$HOME\n",
    "echo HOSTNAME=$HOSTNAME\n",
    "echo USER=$USER\n",
    "echo DISPLAY=$DISPLAY"
   ]
  },
  {
   "cell_type": "code",
   "execution_count": null,
   "id": "5742af6a",
   "metadata": {
    "slideshow": {
     "slide_type": "fragment"
    }
   },
   "outputs": [],
   "source": [
    "echo $PATH\n",
    "echo\n",
    "echo -e ${PATH//:/\\\\n}"
   ]
  },
  {
   "cell_type": "markdown",
   "id": "d60dff20",
   "metadata": {
    "slideshow": {
     "slide_type": "slide"
    }
   },
   "source": [
    "# aliases\n",
    "shorthands, get expanded literally\n",
    "speed up work in terminal a lot\n"
   ]
  },
  {
   "cell_type": "code",
   "execution_count": null,
   "id": "06f5f0bd",
   "metadata": {
    "slideshow": {
     "slide_type": "fragment"
    }
   },
   "outputs": [],
   "source": [
    "la\n",
    "alias la=ls\\ -lAh\n",
    "la"
   ]
  },
  {
   "cell_type": "code",
   "execution_count": null,
   "id": "bc2c337f",
   "metadata": {
    "slideshow": {
     "slide_type": "fragment"
    }
   },
   "outputs": [],
   "source": [
    "alias vi=vim\n",
    "alias vim=nvim\n",
    "\n",
    "alias grepp=\"grep -rn --include=\\*tex \"\n",
    "\n",
    "alias squeueRepeat='while true; do sshhel -t zsh -i -c \"squeueRepeat\" && sleep 10;done'\n",
    "\n"
   ]
  },
  {
   "cell_type": "markdown",
   "id": "686d9961",
   "metadata": {
    "slideshow": {
     "slide_type": "slide"
    }
   },
   "source": [
    "## functions\n",
    "* `function` keyword is optional, but it must be\n",
    "```\n",
    "[name] () {\n",
    "    [function body]\n",
    "}\n",
    "```"
   ]
  },
  {
   "cell_type": "code",
   "execution_count": null,
   "id": "11710965",
   "metadata": {
    "slideshow": {
     "slide_type": "fragment"
    }
   },
   "outputs": [],
   "source": [
    "function a () {\n",
    " pwd\n",
    "}\n",
    "\n",
    "a"
   ]
  },
  {
   "cell_type": "code",
   "execution_count": null,
   "id": "393ca9f7",
   "metadata": {
    "slideshow": {
     "slide_type": "fragment"
    }
   },
   "outputs": [],
   "source": [
    "b () {\n",
    " pwd\n",
    "}\n",
    "\n",
    "b"
   ]
  },
  {
   "cell_type": "markdown",
   "id": "3f319028",
   "metadata": {
    "slideshow": {
     "slide_type": "slide"
    }
   },
   "source": [
    "Difference to `alias`: we can pass arguments and use them\n"
   ]
  },
  {
   "cell_type": "code",
   "execution_count": null,
   "id": "2358d499",
   "metadata": {
    "slideshow": {
     "slide_type": "slide"
    }
   },
   "outputs": [],
   "source": [
    "foo () {\n",
    "   echo \"Function called with $# argument(s)\"\n",
    "   echo \"all arguments: $@\"\n",
    "   echo \"program: $0\"\n",
    "   echo \"first argument: $1\"\n",
    "   echo \"second argument: $2\"\n",
    "}"
   ]
  },
  {
   "cell_type": "code",
   "execution_count": null,
   "id": "41d43e90",
   "metadata": {
    "slideshow": {
     "slide_type": "fragment"
    }
   },
   "outputs": [],
   "source": [
    "foo bar"
   ]
  },
  {
   "cell_type": "code",
   "execution_count": null,
   "id": "a933567b",
   "metadata": {
    "slideshow": {
     "slide_type": "fragment"
    }
   },
   "outputs": [],
   "source": [
    "foo bar foo"
   ]
  },
  {
   "cell_type": "code",
   "execution_count": null,
   "id": "1d6b4e07",
   "metadata": {
    "slideshow": {
     "slide_type": "fragment"
    }
   },
   "outputs": [],
   "source": [
    "foo bar; foo"
   ]
  },
  {
   "cell_type": "code",
   "execution_count": null,
   "id": "cb965950",
   "metadata": {
    "slideshow": {
     "slide_type": "fragment"
    }
   },
   "outputs": [],
   "source": [
    "foo \"bar foo\""
   ]
  },
  {
   "cell_type": "markdown",
   "id": "b923401a",
   "metadata": {
    "slideshow": {
     "slide_type": "slide"
    }
   },
   "source": [
    "**Exercises**:\n",
    "* write a function that takes three arguments (firstname, lastname, birthdate) and prints two lines: a welcome plus stating the birthday.\n",
    "* write a function `mkcd` that takes an argument, creates a folder of that name and automatically `cd`s into it"
   ]
  },
  {
   "cell_type": "code",
   "execution_count": null,
   "id": "4e8e2fcf",
   "metadata": {
    "slideshow": {
     "slide_type": "fragment"
    }
   },
   "outputs": [],
   "source": []
  },
  {
   "cell_type": "code",
   "execution_count": null,
   "id": "59aec93e",
   "metadata": {},
   "outputs": [],
   "source": []
  },
  {
   "cell_type": "markdown",
   "id": "cf97b15d",
   "metadata": {
    "slideshow": {
     "slide_type": "fragment"
    }
   },
   "source": [
    "First point of the Unix philosophy:\n",
    "> Make each program do one thing well. To do a new job, build afresh rather than complicate old programs by adding new \"features\".\n",
    "\n",
    "So, how do we combine programs?"
   ]
  }
 ],
 "metadata": {
  "celltoolbar": "Slideshow",
  "kernelspec": {
   "display_name": "Bash",
   "language": "bash",
   "name": "bash"
  },
  "language_info": {
   "codemirror_mode": "shell",
   "file_extension": ".sh",
   "mimetype": "text/x-sh",
   "name": "bash"
  }
 },
 "nbformat": 4,
 "nbformat_minor": 5
}
