{
 "cells": [
  {
   "cell_type": "markdown",
   "id": "471d0021",
   "metadata": {},
   "source": [
    "### 000_TOC\n",
    "First **Exercise:** how to do print `Hello, World!`?"
   ]
  },
  {
   "cell_type": "code",
   "execution_count": 1,
   "id": "81d9fc71",
   "metadata": {},
   "outputs": [
    {
     "name": "stdout",
     "output_type": "stream",
     "text": [
      "Hello, World!\n",
      "Hello, World!\n",
      "HelloWorld!"
     ]
    }
   ],
   "source": [
    "echo \"Hello, World!\"\n",
    "echo Hello, World!\n",
    "printf %s Hello World!"
   ]
  },
  {
   "cell_type": "markdown",
   "id": "d7854b7e",
   "metadata": {},
   "source": [
    "### 010_functions\n",
    "* write a function that takes three arguments (firstname, lastname, birthdate) and prints two lines: a welcome plus stating the birthday.\n",
    "* write a function `mkcd` that takes an argument, creates a folder of that name and automatically `cd`s into it"
   ]
  },
  {
   "cell_type": "code",
   "execution_count": 2,
   "id": "fc0426d6",
   "metadata": {},
   "outputs": [
    {
     "name": "stdout",
     "output_type": "stream",
     "text": [
      "Hi, julian bla.\n",
      "Your birthday is on 31.12.2022"
     ]
    }
   ],
   "source": [
    "welcome () {\n",
    "    echo -en \"Hi, $1 $2.\\nYour birthday is on $3\"\n",
    "}\n",
    "name=julian\n",
    "welcome $name bla 31.12.2022"
   ]
  },
  {
   "cell_type": "code",
   "execution_count": 3,
   "id": "038e55c5",
   "metadata": {},
   "outputs": [],
   "source": [
    "mkcd () {\n",
    "    mkdir -p $1; cd $1\n",
    "}"
   ]
  },
  {
   "cell_type": "markdown",
   "id": "913200e4",
   "metadata": {},
   "source": [
    "# 020_pipes\n",
    "some manipulations"
   ]
  },
  {
   "cell_type": "code",
   "execution_count": 4,
   "id": "3cfdfde6",
   "metadata": {},
   "outputs": [
    {
     "name": "stdout",
     "output_type": "stream",
     "text": [
      "0.0\n",
      "stdin\n",
      "stderr\n",
      "0.1\n",
      "stderr\n",
      "0.2\n",
      "stdin\n",
      "1\n",
      "stderr\n",
      "2\n",
      "3\n",
      "stdin\n"
     ]
    }
   ],
   "source": [
    "bar () {\n",
    "    echo stdin  >&1\n",
    "    echo stderr >&2\n",
    "}\n",
    "\n",
    "discardStdin() {\n",
    "    echo -n \"\"\n",
    "}\n",
    "\n",
    "echo \"0.0\"\n",
    "bar\n",
    "echo \"0.1\"\n",
    "bar >/dev/null\n",
    "echo \"0.2\"\n",
    "bar 2>/dev/null\n",
    "\n",
    "echo \"1\"\n",
    "bar | discardStdin\n",
    "\n",
    "echo \"2\"\n",
    "bar |& discardStdin\n",
    "\n",
    "echo \"3\"\n",
    "(bar 3>&1 1>&2 2>&3) | discardStdin"
   ]
  },
  {
   "cell_type": "markdown",
   "id": "4706b2ce",
   "metadata": {},
   "source": [
    "### 030_subshells\n",
    "**Exercise:** what is the number of files (including hidden files) times 3 minus the number of variables in env?"
   ]
  },
  {
   "cell_type": "code",
   "execution_count": 5,
   "id": "66575e15",
   "metadata": {},
   "outputs": [
    {
     "name": "stdout",
     "output_type": "stream",
     "text": [
      "57\n",
      "7\n"
     ]
    }
   ],
   "source": [
    "numberOfFiles=$(ls -A | wc -l)\n",
    "ThreeTimesNumberOfFiles=$((numberOfFiles * 3))\n",
    "echo $ThreeTimesNumberOfFiles\n",
    "\n",
    "numberOfVariables=$(env | wc -l)\n",
    "echo $(($ThreeTimesNumberOfFiles - $numberOfVariables))"
   ]
  },
  {
   "cell_type": "code",
   "execution_count": 6,
   "id": "0a514615",
   "metadata": {},
   "outputs": [
    {
     "name": "stdout",
     "output_type": "stream",
     "text": [
      "7\n"
     ]
    }
   ],
   "source": [
    "echo $(($(ls -A | wc -l) * 3 - $(env | wc -l) ))\n"
   ]
  },
  {
   "cell_type": "markdown",
   "id": "894b8998",
   "metadata": {},
   "source": [
    "### 040_loops\n",
    "* Return the numbers 5 to 10\n",
    "* For each file in the folder, list the unix timestamp (seconds since Epoch) of the last modification (see `stat` for this)\n",
    "* borrowed from https://missing.csail.mit.edu/2020/shell-tools/:\n",
    "> Say you have a command that fails rarely. In order to debug it you need to capture its output but it can be time consuming to get a failure run. Write a bash script that runs the following script until it fails and captures its standard output and error streams to files and prints everything at the end. Bonus points if you can also report how many runs it took for the script to fail."
   ]
  },
  {
   "cell_type": "code",
   "execution_count": 7,
   "id": "2627167a",
   "metadata": {},
   "outputs": [
    {
     "name": "stdout",
     "output_type": "stream",
     "text": [
      "5\n",
      "6\n",
      "7\n",
      "8\n",
      "9\n",
      "10\n"
     ]
    }
   ],
   "source": [
    "# seq 5 | awk '{print $1+5}'\n",
    "for i in $(seq 5 10); do echo $i; done"
   ]
  },
  {
   "cell_type": "code",
   "execution_count": 8,
   "id": "e721c423",
   "metadata": {},
   "outputs": [
    {
     "name": "stdout",
     "output_type": "stream",
     "text": [
      "000_TOC.ipynb:\t 1671646184\n",
      "010_functions.ipynb:\t 1671646411\n",
      "020_pipes.ipynb:\t 1671646434\n",
      "030_subshells.ipynb:\t 1671646470\n",
      "040_loops.ipynb:\t 1671646759\n",
      "050_conditionals.ipynb:\t 1671647301\n",
      "060_regex.ipynb:\t 1671647547\n",
      "070_usefulCommands.ipynb:\t 1670366793\n",
      "090_advancedStuff.ipynb:\t 1671624717\n",
      "notebooks.tar:\t 1670582036\n",
      "playgroundAndSolutions.ipynb:\t 1671647541\n",
      "README.md:\t 1669925935\n",
      "temporaryfilethatwedeleteafterwards.txt:\t 1670580620\n",
      "tmpfile.log:\t 1671646716\n",
      "tmpscript_loops.sh:\t 1671646694\n",
      "tmpscript.sh:\t 1670578503\n"
     ]
    }
   ],
   "source": [
    "# for f in $(ls); do stat --format %Y \"$f\"; done\n",
    "for f in $(ls); do echo -e \"${f}:\\t $(stat -c %Y \"$f\")\"; done"
   ]
  },
  {
   "cell_type": "code",
   "execution_count": null,
   "id": "007cf794",
   "metadata": {},
   "outputs": [],
   "source": []
  },
  {
   "cell_type": "code",
   "execution_count": 9,
   "id": "e90d78b9",
   "metadata": {},
   "outputs": [
    {
     "name": "stdout",
     "output_type": "stream",
     "text": [
      "error occured in iteration 84. Output was:\n",
      "Something went wrong\n",
      "The error was using magic numbers\n"
     ]
    }
   ],
   "source": [
    "crashOccured=false\n",
    "for i in $(seq 100); do \n",
    "    bash tmpscript_loops.sh &> tmpfile.log\n",
    "    if [ \"$?\" -ne 0 ]; then\n",
    "        crashOccured=true\n",
    "        break\n",
    "    fi\n",
    "done\n",
    "if $crashOccured; then\n",
    "    echo \"error occured in iteration $i. Output was:\"\n",
    "    cat tmpfile.log\n",
    "else\n",
    "    echo \"rerun to let error occur\"\n",
    "fi"
   ]
  },
  {
   "cell_type": "markdown",
   "id": "3a0d88b3",
   "metadata": {},
   "source": [
    "### 050_conditionals\n",
    "* Results of `-e`, `-d`, `-f` when we give a folder?\n",
    "* Write a function that prints whether the argument is a file or a directory\n",
    "* what does the script below do\n",
    "```\n",
    "filename=~/.tmp_squeueRepeat_new\n",
    "timeforGeneration=20\n",
    "timeSinceTouch=$(($(date +%s) - $(stat -c %Y $filename)))\n",
    "redoAfter=$(($repeatEvery + $timeforGeneration))\n",
    "if [ $timeSinceTouch -lt $redoAfter ]; then\n",
    "[...]\n",
    "```"
   ]
  },
  {
   "cell_type": "code",
   "execution_count": 10,
   "id": "721bc3f7",
   "metadata": {},
   "outputs": [
    {
     "name": "stdout",
     "output_type": "stream",
     "text": [
      "false\n",
      "true\n",
      "true\n"
     ]
    }
   ],
   "source": [
    "[ -f \".git\" ] && echo \"true\" || echo \"false\"\n",
    "[ -d \".git\" ] && echo \"true\" || echo \"false\"\n",
    "[ -e \".git\" ] && echo \"true\" || echo \"false\""
   ]
  },
  {
   "cell_type": "code",
   "execution_count": 11,
   "id": "adea1694",
   "metadata": {},
   "outputs": [
    {
     "name": "stdout",
     "output_type": "stream",
     "text": [
      "Function needs exactly one argument\n",
      "Function needs exactly one argument\n",
      "argument '050_conditionals.ipynb' is a file\n",
      "argument '.git' is a directory\n"
     ]
    }
   ],
   "source": [
    "function whatisargument () {\n",
    "    if [ \"$#\" -ne 1 ]; then\n",
    "        echo \"Function needs exactly one argument\";\n",
    "        return 1\n",
    "    fi\n",
    "    if ! [ -e \"$1\" ]; then\n",
    "        echo \"Argument must be an existing path\"\n",
    "        return 1\n",
    "    fi\n",
    "    \n",
    "    if [ -f \"$1\" ]; then\n",
    "        echo \"argument '$1' is a file\";\n",
    "    elif [ -d \"$1\" ]; then\n",
    "        echo \"argument '$1' is a directory\";\n",
    "    else\n",
    "        echo \"argument '$1' is neither file nor directory but exists\";\n",
    "        return 1\n",
    "    fi\n",
    "}\n",
    "\n",
    "whatisargument\n",
    "whatisargument .git 050_conditionals.ipynb\n",
    "whatisargument 050_conditionals.ipynb\n",
    "whatisargument .git"
   ]
  },
  {
   "cell_type": "markdown",
   "id": "1e91d4e8",
   "metadata": {},
   "source": [
    "The script checks how many seconds ago `$filename` was modified, and compares this agains the sum of two ints `$repeatEvery` and `$timeforGeneration`"
   ]
  },
  {
   "cell_type": "markdown",
   "id": "339904e7",
   "metadata": {},
   "source": [
    "### 060_regex\n",
    "* Write a function `clearFilename` that get's a path and returns only the alphanumeric parts (bonus for doing it once with sed, and once with grep)\n",
    "* Write a function that takes a filename 'foobarr_2.pickle' and returns it with the extension, the number and underscore removed. How would you automatically rename all/a subset of files in a folder using this function?\n",
    "* Given an squeue function like below, return all jobs running on a RyzenHost with only the last 3 digits of their jobid and their username"
   ]
  },
  {
   "cell_type": "code",
   "execution_count": 12,
   "id": "2815c2f0",
   "metadata": {},
   "outputs": [
    {
     "name": "stdout",
     "output_type": "stream",
     "text": [
      "foobarr2pickle\n"
     ]
    }
   ],
   "source": [
    "function clearfilename () {\n",
    "    # echo \"$1\" | grep -oP \"[a-zA-Z0-9]*\" | tr '\\n' ' '\n",
    "    echo \"$1\" | sed 's/[^a-zA-Z0-9]//g'\n",
    "}\n",
    "clearfilename foobarr_2.pickle"
   ]
  },
  {
   "cell_type": "code",
   "execution_count": 13,
   "id": "1e31a73e",
   "metadata": {},
   "outputs": [
    {
     "name": "stdout",
     "output_type": "stream",
     "text": [
      "Thu Dec 01 19:54:51 2022\n",
      "             JOBID PARTITION     NAME     USER    STATE       TIME TIME_LIMI  NODES NODELIST(REASON) \n",
      "           4479803      cube clustern quiggeld  PENDING       0:00   6:00:00      1 (launch failed requeued held) \n",
      "           4486967      cube clustern quiggeld  PENDING       0:00   6:00:00      1 (launch failed requeued held) \n",
      "           4487128      cube clustern quiggeld  PENDING       0:00   6:00:00      1 (launch failed requeued held) \n",
      "           4487826      cube clustern quiggeld  PENDING       0:00   6:00:00      1 (launch failed requeued held) \n",
      "           4488503      cube clustern quiggeld  PENDING       0:00   6:00:00      1 (launch failed requeued held) \n",
      "           4492183      cube clustern quiggeld  PENDING       0:00   6:00:00      1 (launch failed requeued held) \n",
      "           4503427      cube clustern quiggeld  RUNNING    2:22:00   6:00:00      1 RyzenHost0 \n",
      "           4503266      cube clustern quiggeld  RUNNING    4:11:31   6:00:00      1 RyzenHost0 \n",
      "           4503251      cube clustern quiggeld  RUNNING    4:19:00   6:00:00      1 RyzenHost0 \n",
      "           4503355  cubectrl     bash rheinema  RUNNING    3:03:15  12:00:00      1 HBPHost19 \n",
      "           4459022      einc singular luboeins  RUNNING 21-05:45:01 UNLIMITED      1 EINCHost0 \n",
      "           4460179      einc singular luboeins  RUNNING 20-01:38:19 UNLIMITED      1 EINCHost0 \n",
      "           4502964    extoll     bash  thommes  RUNNING    7:00:00 UNLIMITED      1 EXTHost1 \n"
     ]
    }
   ],
   "source": [
    "squeue () {\n",
    "    cat <<-EOF\n",
    "Thu Dec 01 19:54:51 2022\n",
    "             JOBID PARTITION     NAME     USER    STATE       TIME TIME_LIMI  NODES NODELIST(REASON) \n",
    "           4479803      cube clustern quiggeld  PENDING       0:00   6:00:00      1 (launch failed requeued held) \n",
    "           4486967      cube clustern quiggeld  PENDING       0:00   6:00:00      1 (launch failed requeued held) \n",
    "           4487128      cube clustern quiggeld  PENDING       0:00   6:00:00      1 (launch failed requeued held) \n",
    "           4487826      cube clustern quiggeld  PENDING       0:00   6:00:00      1 (launch failed requeued held) \n",
    "           4488503      cube clustern quiggeld  PENDING       0:00   6:00:00      1 (launch failed requeued held) \n",
    "           4492183      cube clustern quiggeld  PENDING       0:00   6:00:00      1 (launch failed requeued held) \n",
    "           4503427      cube clustern quiggeld  RUNNING    2:22:00   6:00:00      1 RyzenHost0 \n",
    "           4503266      cube clustern quiggeld  RUNNING    4:11:31   6:00:00      1 RyzenHost0 \n",
    "           4503251      cube clustern quiggeld  RUNNING    4:19:00   6:00:00      1 RyzenHost0 \n",
    "           4503355  cubectrl     bash rheinema  RUNNING    3:03:15  12:00:00      1 HBPHost19 \n",
    "           4459022      einc singular luboeins  RUNNING 21-05:45:01 UNLIMITED      1 EINCHost0 \n",
    "           4460179      einc singular luboeins  RUNNING 20-01:38:19 UNLIMITED      1 EINCHost0 \n",
    "           4502964    extoll     bash  thommes  RUNNING    7:00:00 UNLIMITED      1 EXTHost1 \n",
    "EOF\n",
    "}\n",
    "\n",
    "squeue"
   ]
  },
  {
   "cell_type": "code",
   "execution_count": 14,
   "id": "70a993d8",
   "metadata": {},
   "outputs": [
    {
     "name": "stdout",
     "output_type": "stream",
     "text": [
      "427 quiggeld\n",
      "266 quiggeld\n",
      "251 quiggeld\n"
     ]
    }
   ],
   "source": [
    "squeue | grep RyzenHost | sed -E 's/\\s+/ /g' | cut -f 2,5  -d \" \" | grep -oP \"[0-9]{3} [0-9a-zA-Z]*\""
   ]
  },
  {
   "cell_type": "code",
   "execution_count": 15,
   "id": "e4426277",
   "metadata": {},
   "outputs": [
    {
     "name": "stdout",
     "output_type": "stream",
     "text": [
      "job by quiggeld and shortened jobid 427\n",
      "job by quiggeld and shortened jobid 266\n",
      "job by quiggeld and shortened jobid 251\n"
     ]
    }
   ],
   "source": [
    "squeue | grep RyzenHost | sed -E 's#^\\s*[0-9]*([0-9]{3})(\\s*\\S*){2}\\s*(\\S*).*#job by \\3 and shortened jobid \\1#g'"
   ]
  },
  {
   "cell_type": "code",
   "execution_count": 16,
   "id": "3bc48b71",
   "metadata": {},
   "outputs": [
    {
     "name": "stdout",
     "output_type": "stream",
     "text": [
      "job by quiggeld and shortened jobid 427\n",
      "job by quiggeld and shortened jobid 266\n",
      "job by quiggeld and shortened jobid 251\n"
     ]
    }
   ],
   "source": [
    "squeue | while read line; do\n",
    "    # only process if RyzenHost is there\n",
    "    echo $line | grep -q RyzenHost || continue\n",
    "    # using cut:\n",
    "    info_user=\"$(echo $line | cut -f 4 -d ' ')\"\n",
    "    info_jobid=\"$(echo $line | cut -f 1 -d ' ')\"\n",
    "    # using grep\n",
    "    info_jobid=\"$(echo $line | grep -oP '^(\\s*\\S*){0}\\s*\\K\\S*')\"\n",
    "    info_user=\"$(echo $line | grep -oP '^(\\s*\\S*){3}\\s*\\K\\S*')\"\n",
    "    # for playing around:\n",
    "    # echo $line | grep -P --color=auto '^(\\s*\\S*){0}\\s*\\K\\S*'\n",
    "    \n",
    "    # getting the last three digits\n",
    "    info_jobidLastThree=\"$(echo $info_jobid | grep -oP \"[0-9]{3}$\")\"\n",
    "    \n",
    "    \n",
    "    echo \"job by $info_user and shortened jobid $info_jobidLastThree\"\n",
    "done"
   ]
  }
 ],
 "metadata": {
  "kernelspec": {
   "display_name": "Bash",
   "language": "bash",
   "name": "bash"
  },
  "language_info": {
   "codemirror_mode": "shell",
   "file_extension": ".sh",
   "mimetype": "text/x-sh",
   "name": "bash"
  }
 },
 "nbformat": 4,
 "nbformat_minor": 5
}
