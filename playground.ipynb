{
 "cells": [
  {
   "cell_type": "code",
   "execution_count": null,
   "id": "f674750d",
   "metadata": {},
   "outputs": [],
   "source": [
    "echo $(($(ls -A | wc -l) * 3 - $(env | wc -l) ))\n"
   ]
  },
  {
   "cell_type": "code",
   "execution_count": null,
   "id": "72ce69d8",
   "metadata": {},
   "outputs": [],
   "source": [
    "bar () {\n",
    "    echo stdin  >&1\n",
    "    echo stderr >&2\n",
    "}\n",
    "\n",
    "discardStdin() {\n",
    "    echo -n \"\"\n",
    "}\n",
    "\n",
    "echo \"0.0\"\n",
    "bar\n",
    "echo \"0.1\"\n",
    "bar >/dev/null\n",
    "echo \"0.2\"\n",
    "bar 2>/dev/null\n",
    "\n",
    "echo \"1\"\n",
    "bar | discardStdin\n",
    "\n",
    "echo \"2\"\n",
    "bar |& discardStdin\n",
    "\n",
    "echo \"3\"\n",
    "(bar 3>&1 1>&2 2>&3) | discardStdin"
   ]
  },
  {
   "cell_type": "code",
   "execution_count": null,
   "id": "5380bed3",
   "metadata": {},
   "outputs": [],
   "source": [
    "for i in $(seq 5 10); do echo $i; done\n",
    "echo\n",
    "for f in $(ls); do echo -e \"${f}:\\t $(stat -c %Y $f)\"; done"
   ]
  },
  {
   "cell_type": "code",
   "execution_count": null,
   "id": "1e31a73e",
   "metadata": {},
   "outputs": [],
   "source": [
    "squeue () {\n",
    "    cat <<-EOF\n",
    "Thu Dec 01 19:54:51 2022\n",
    "             JOBID PARTITION     NAME     USER    STATE       TIME TIME_LIMI  NODES NODELIST(REASON) \n",
    "           4479803      cube clustern quiggeld  PENDING       0:00   6:00:00      1 (launch failed requeued held) \n",
    "           4486967      cube clustern quiggeld  PENDING       0:00   6:00:00      1 (launch failed requeued held) \n",
    "           4487128      cube clustern quiggeld  PENDING       0:00   6:00:00      1 (launch failed requeued held) \n",
    "           4487826      cube clustern quiggeld  PENDING       0:00   6:00:00      1 (launch failed requeued held) \n",
    "           4488503      cube clustern quiggeld  PENDING       0:00   6:00:00      1 (launch failed requeued held) \n",
    "           4492183      cube clustern quiggeld  PENDING       0:00   6:00:00      1 (launch failed requeued held) \n",
    "           4503427      cube clustern quiggeld  RUNNING    2:22:00   6:00:00      1 RyzenHost0 \n",
    "           4503266      cube clustern quiggeld  RUNNING    4:11:31   6:00:00      1 RyzenHost0 \n",
    "           4503251      cube clustern quiggeld  RUNNING    4:19:00   6:00:00      1 RyzenHost0 \n",
    "           4503355  cubectrl     bash rheinema  RUNNING    3:03:15  12:00:00      1 HBPHost19 \n",
    "           4459022      einc singular luboeins  RUNNING 21-05:45:01 UNLIMITED      1 EINCHost0 \n",
    "           4460179      einc singular luboeins  RUNNING 20-01:38:19 UNLIMITED      1 EINCHost0 \n",
    "           4502964    extoll     bash  thommes  RUNNING    7:00:00 UNLIMITED      1 EXTHost1 \n",
    "EOF\n",
    "}\n",
    "\n",
    "squeue"
   ]
  },
  {
   "cell_type": "code",
   "execution_count": null,
   "id": "70a993d8",
   "metadata": {},
   "outputs": [],
   "source": []
  }
 ],
 "metadata": {
  "kernelspec": {
   "display_name": "Bash",
   "language": "bash",
   "name": "bash"
  },
  "language_info": {
   "codemirror_mode": "shell",
   "file_extension": ".sh",
   "mimetype": "text/x-sh",
   "name": "bash"
  }
 },
 "nbformat": 4,
 "nbformat_minor": 5
}
